{
 "cells": [
  {
   "cell_type": "code",
   "execution_count": 1,
   "metadata": {
    "_cell_guid": "ada7992e-8c85-4b9d-8458-3cd6189f9a47",
    "_uuid": "db78b88a82e57fd299e39dcc993e287a671fd143"
   },
   "outputs": [],
   "source": [
    "%matplotlib inline \n",
    "import time\n",
    "\n",
    "import numpy as np # linear algebra \n",
    "import pandas as pd # data processing, CSV file I/O (e.g. pd.read_csv)\n",
    "import cv2\n",
    "from multiprocessing.pool import Pool, ThreadPool\n",
    "\n",
    "from tqdm import tqdm\n",
    "\n",
    "from data_utils import grab, sample\n",
    "\n",
    "import matplotlib.pyplot as plt"
   ]
  },
  {
   "cell_type": "code",
   "execution_count": 2,
   "metadata": {
    "_cell_guid": "857881d9-288a-4db2-ae81-4525dff8d8e1",
    "_uuid": "4a84e62634d4d392139124f1895bc0d7d2bb3196"
   },
   "outputs": [],
   "source": [
    "train_data = pd.read_csv('/home/data/LandmarkRetrieval/index.csv')\n",
    "test_data = pd.read_csv('/home/data/LandmarkRetrieval/test.csv')\n",
    "submission = pd.read_csv('/home/data/LandmarkRetrieval/sample_submission.csv')"
   ]
  },
  {
   "cell_type": "code",
   "execution_count": 3,
   "metadata": {
    "_cell_guid": "8024e053-43a7-4da1-9cf2-255b7a5c8457",
    "_uuid": "fa4b77268d8331845877330f19b16569f2e4e611"
   },
   "outputs": [
    {
     "name": "stdout",
     "output_type": "stream",
     "text": [
      "Training data size (1098461, 2)\n",
      "test data size (117703, 2)\n"
     ]
    }
   ],
   "source": [
    "print(\"Training data size\",train_data.shape)\n",
    "print(\"test data size\",test_data.shape)"
   ]
  },
  {
   "cell_type": "code",
   "execution_count": 4,
   "metadata": {
    "_cell_guid": "80eafb6c-0037-41c5-94b1-f5683c2a178e",
    "_uuid": "e87872dd76b0b354fbf2fb96e951032a8459020b"
   },
   "outputs": [
    {
     "data": {
      "text/html": [
       "<div>\n",
       "<style scoped>\n",
       "    .dataframe tbody tr th:only-of-type {\n",
       "        vertical-align: middle;\n",
       "    }\n",
       "\n",
       "    .dataframe tbody tr th {\n",
       "        vertical-align: top;\n",
       "    }\n",
       "\n",
       "    .dataframe thead th {\n",
       "        text-align: right;\n",
       "    }\n",
       "</style>\n",
       "<table border=\"1\" class=\"dataframe\">\n",
       "  <thead>\n",
       "    <tr style=\"text-align: right;\">\n",
       "      <th></th>\n",
       "      <th>id</th>\n",
       "      <th>url</th>\n",
       "    </tr>\n",
       "  </thead>\n",
       "  <tbody>\n",
       "    <tr>\n",
       "      <th>0</th>\n",
       "      <td>b09ea096f4daa42e</td>\n",
       "      <td>https://lh5.googleusercontent.com/-wBt6sklzbGs...</td>\n",
       "    </tr>\n",
       "    <tr>\n",
       "      <th>1</th>\n",
       "      <td>6648383c7b3a438c</td>\n",
       "      <td>https://lh3.googleusercontent.com/-OADWsOZq83E...</td>\n",
       "    </tr>\n",
       "    <tr>\n",
       "      <th>2</th>\n",
       "      <td>d485d9f770e40453</td>\n",
       "      <td>https://lh5.googleusercontent.com/-vtZFUTuFWGM...</td>\n",
       "    </tr>\n",
       "    <tr>\n",
       "      <th>3</th>\n",
       "      <td>e7cdfba9ec7e9dd5</td>\n",
       "      <td>https://lh4.googleusercontent.com/-Skq6Q-VUALk...</td>\n",
       "    </tr>\n",
       "    <tr>\n",
       "      <th>4</th>\n",
       "      <td>44806beb654e6410</td>\n",
       "      <td>https://lh4.googleusercontent.com/-6eIkjkr3j2w...</td>\n",
       "    </tr>\n",
       "  </tbody>\n",
       "</table>\n",
       "</div>"
      ],
      "text/plain": [
       "                 id                                                url\n",
       "0  b09ea096f4daa42e  https://lh5.googleusercontent.com/-wBt6sklzbGs...\n",
       "1  6648383c7b3a438c  https://lh3.googleusercontent.com/-OADWsOZq83E...\n",
       "2  d485d9f770e40453  https://lh5.googleusercontent.com/-vtZFUTuFWGM...\n",
       "3  e7cdfba9ec7e9dd5  https://lh4.googleusercontent.com/-Skq6Q-VUALk...\n",
       "4  44806beb654e6410  https://lh4.googleusercontent.com/-6eIkjkr3j2w..."
      ]
     },
     "execution_count": 4,
     "metadata": {},
     "output_type": "execute_result"
    }
   ],
   "source": [
    "train_data.head()"
   ]
  },
  {
   "cell_type": "code",
   "execution_count": 5,
   "metadata": {
    "_cell_guid": "43beb6c2-1715-42d4-a045-39eadb33b5be",
    "_uuid": "5e33a5f5b60612c83404595d4744158566fc5de3"
   },
   "outputs": [
    {
     "data": {
      "text/html": [
       "<div>\n",
       "<style scoped>\n",
       "    .dataframe tbody tr th:only-of-type {\n",
       "        vertical-align: middle;\n",
       "    }\n",
       "\n",
       "    .dataframe tbody tr th {\n",
       "        vertical-align: top;\n",
       "    }\n",
       "\n",
       "    .dataframe thead th {\n",
       "        text-align: right;\n",
       "    }\n",
       "</style>\n",
       "<table border=\"1\" class=\"dataframe\">\n",
       "  <thead>\n",
       "    <tr style=\"text-align: right;\">\n",
       "      <th></th>\n",
       "      <th>id</th>\n",
       "      <th>url</th>\n",
       "    </tr>\n",
       "  </thead>\n",
       "  <tbody>\n",
       "    <tr>\n",
       "      <th>0</th>\n",
       "      <td>000088da12d664db</td>\n",
       "      <td>https://lh3.googleusercontent.com/-k45wfamuhT8...</td>\n",
       "    </tr>\n",
       "    <tr>\n",
       "      <th>1</th>\n",
       "      <td>0001623c6d808702</td>\n",
       "      <td>https://lh3.googleusercontent.com/-OQ0ywv8KVIA...</td>\n",
       "    </tr>\n",
       "    <tr>\n",
       "      <th>2</th>\n",
       "      <td>0001bbb682d45002</td>\n",
       "      <td>https://lh3.googleusercontent.com/-kloLenz1xZk...</td>\n",
       "    </tr>\n",
       "    <tr>\n",
       "      <th>3</th>\n",
       "      <td>0002362830cfe3a3</td>\n",
       "      <td>https://lh3.googleusercontent.com/-N6z79jNZYTg...</td>\n",
       "    </tr>\n",
       "    <tr>\n",
       "      <th>4</th>\n",
       "      <td>000270c9100de789</td>\n",
       "      <td>https://lh3.googleusercontent.com/-keriHaVOq1U...</td>\n",
       "    </tr>\n",
       "  </tbody>\n",
       "</table>\n",
       "</div>"
      ],
      "text/plain": [
       "                 id                                                url\n",
       "0  000088da12d664db  https://lh3.googleusercontent.com/-k45wfamuhT8...\n",
       "1  0001623c6d808702  https://lh3.googleusercontent.com/-OQ0ywv8KVIA...\n",
       "2  0001bbb682d45002  https://lh3.googleusercontent.com/-kloLenz1xZk...\n",
       "3  0002362830cfe3a3  https://lh3.googleusercontent.com/-N6z79jNZYTg...\n",
       "4  000270c9100de789  https://lh3.googleusercontent.com/-keriHaVOq1U..."
      ]
     },
     "execution_count": 5,
     "metadata": {},
     "output_type": "execute_result"
    }
   ],
   "source": [
    "test_data.head()"
   ]
  },
  {
   "cell_type": "code",
   "execution_count": 6,
   "metadata": {
    "_cell_guid": "de273dd2-311f-4d27-9197-251567936c87",
    "_uuid": "29f629b5648540fe2a999e30ffec54b9d96cd84c"
   },
   "outputs": [
    {
     "data": {
      "text/html": [
       "<div>\n",
       "<style scoped>\n",
       "    .dataframe tbody tr th:only-of-type {\n",
       "        vertical-align: middle;\n",
       "    }\n",
       "\n",
       "    .dataframe tbody tr th {\n",
       "        vertical-align: top;\n",
       "    }\n",
       "\n",
       "    .dataframe thead th {\n",
       "        text-align: right;\n",
       "    }\n",
       "</style>\n",
       "<table border=\"1\" class=\"dataframe\">\n",
       "  <thead>\n",
       "    <tr style=\"text-align: right;\">\n",
       "      <th></th>\n",
       "      <th>id</th>\n",
       "      <th>images</th>\n",
       "    </tr>\n",
       "  </thead>\n",
       "  <tbody>\n",
       "    <tr>\n",
       "      <th>0</th>\n",
       "      <td>000088da12d664db</td>\n",
       "      <td>0370c4c856f096e8 766677ab964f4311 e3ae4dcee813...</td>\n",
       "    </tr>\n",
       "    <tr>\n",
       "      <th>1</th>\n",
       "      <td>0001623c6d808702</td>\n",
       "      <td>b01175326ee19742 67eb4fc9ff184bd2 0f775e72c031...</td>\n",
       "    </tr>\n",
       "    <tr>\n",
       "      <th>2</th>\n",
       "      <td>0001bbb682d45002</td>\n",
       "      <td>5101d06f891261be ae9c548dcf7102e2 a42098eb2dd3...</td>\n",
       "    </tr>\n",
       "    <tr>\n",
       "      <th>3</th>\n",
       "      <td>0002362830cfe3a3</td>\n",
       "      <td>40cb31b754bb7249 f860d7fbb0073fab 492c16c0584d...</td>\n",
       "    </tr>\n",
       "    <tr>\n",
       "      <th>4</th>\n",
       "      <td>000270c9100de789</td>\n",
       "      <td>fe3a62d9b50ca221 5005114ed61af1bc 754e137d888d...</td>\n",
       "    </tr>\n",
       "  </tbody>\n",
       "</table>\n",
       "</div>"
      ],
      "text/plain": [
       "                 id                                             images\n",
       "0  000088da12d664db  0370c4c856f096e8 766677ab964f4311 e3ae4dcee813...\n",
       "1  0001623c6d808702  b01175326ee19742 67eb4fc9ff184bd2 0f775e72c031...\n",
       "2  0001bbb682d45002  5101d06f891261be ae9c548dcf7102e2 a42098eb2dd3...\n",
       "3  0002362830cfe3a3  40cb31b754bb7249 f860d7fbb0073fab 492c16c0584d...\n",
       "4  000270c9100de789  fe3a62d9b50ca221 5005114ed61af1bc 754e137d888d..."
      ]
     },
     "execution_count": 6,
     "metadata": {},
     "output_type": "execute_result"
    }
   ],
   "source": [
    "submission.head()"
   ]
  },
  {
   "cell_type": "code",
   "execution_count": 7,
   "metadata": {
    "_cell_guid": "38be190a-dc34-4645-97a7-f409c88d0633",
    "_uuid": "5200b65d6dc97f611edfcaa6655d57731872d01a"
   },
   "outputs": [
    {
     "name": "stdout",
     "output_type": "stream",
     "text": [
      "id 731bf321dc92bdfc\n",
      "url: https://lh4.googleusercontent.com/-gQEUjiYZrAA/UhcFIFIAJXI/AAAAAAAAE_o/yZ_s7e_zWvg/s1600/\n"
     ]
    }
   ],
   "source": [
    "# now open the URL\n",
    "temp = 4444\n",
    "print('id', train_data['id'][temp])\n",
    "print('url:', train_data['url'][temp])"
   ]
  },
  {
   "cell_type": "code",
   "execution_count": 8,
   "metadata": {
    "_cell_guid": "d4199cd3-88e6-4c59-b974-3d04d4d115b9",
    "_uuid": "8a2c7c1618a6c785edbb6fc088a5b5b2e55e1713"
   },
   "outputs": [
    {
     "data": {
      "text/html": [
       "<div>\n",
       "<style scoped>\n",
       "    .dataframe tbody tr th:only-of-type {\n",
       "        vertical-align: middle;\n",
       "    }\n",
       "\n",
       "    .dataframe tbody tr th {\n",
       "        vertical-align: top;\n",
       "    }\n",
       "\n",
       "    .dataframe thead th {\n",
       "        text-align: right;\n",
       "    }\n",
       "</style>\n",
       "<table border=\"1\" class=\"dataframe\">\n",
       "  <thead>\n",
       "    <tr style=\"text-align: right;\">\n",
       "      <th></th>\n",
       "      <th>Total</th>\n",
       "      <th>Percent</th>\n",
       "    </tr>\n",
       "  </thead>\n",
       "  <tbody>\n",
       "    <tr>\n",
       "      <th>url</th>\n",
       "      <td>0</td>\n",
       "      <td>0.0</td>\n",
       "    </tr>\n",
       "    <tr>\n",
       "      <th>id</th>\n",
       "      <td>0</td>\n",
       "      <td>0.0</td>\n",
       "    </tr>\n",
       "  </tbody>\n",
       "</table>\n",
       "</div>"
      ],
      "text/plain": [
       "     Total  Percent\n",
       "url      0      0.0\n",
       "id       0      0.0"
      ]
     },
     "execution_count": 8,
     "metadata": {},
     "output_type": "execute_result"
    }
   ],
   "source": [
    "# missing data in training data \n",
    "total = train_data.isnull().sum().sort_values(ascending = False)\n",
    "percent = (train_data.isnull().sum()/train_data.isnull().count()).sort_values(ascending = False)\n",
    "missing_train_data = pd.concat([total, percent], axis=1, keys=['Total', 'Percent'])\n",
    "missing_train_data.head()"
   ]
  },
  {
   "cell_type": "code",
   "execution_count": 9,
   "metadata": {
    "_cell_guid": "def08573-3814-4a59-b741-36e77cdfa412",
    "_uuid": "8b715767b47e548004bb182fc3145be66a43afdf"
   },
   "outputs": [
    {
     "data": {
      "text/html": [
       "<div>\n",
       "<style scoped>\n",
       "    .dataframe tbody tr th:only-of-type {\n",
       "        vertical-align: middle;\n",
       "    }\n",
       "\n",
       "    .dataframe tbody tr th {\n",
       "        vertical-align: top;\n",
       "    }\n",
       "\n",
       "    .dataframe thead th {\n",
       "        text-align: right;\n",
       "    }\n",
       "</style>\n",
       "<table border=\"1\" class=\"dataframe\">\n",
       "  <thead>\n",
       "    <tr style=\"text-align: right;\">\n",
       "      <th></th>\n",
       "      <th>Total</th>\n",
       "      <th>Percent</th>\n",
       "    </tr>\n",
       "  </thead>\n",
       "  <tbody>\n",
       "    <tr>\n",
       "      <th>url</th>\n",
       "      <td>0</td>\n",
       "      <td>0.0</td>\n",
       "    </tr>\n",
       "    <tr>\n",
       "      <th>id</th>\n",
       "      <td>0</td>\n",
       "      <td>0.0</td>\n",
       "    </tr>\n",
       "  </tbody>\n",
       "</table>\n",
       "</div>"
      ],
      "text/plain": [
       "     Total  Percent\n",
       "url      0      0.0\n",
       "id       0      0.0"
      ]
     },
     "execution_count": 9,
     "metadata": {},
     "output_type": "execute_result"
    }
   ],
   "source": [
    "# missing data in test data \n",
    "total = test_data.isnull().sum().sort_values(ascending = False)\n",
    "percent = (test_data.isnull().sum()/test_data.isnull().count()).sort_values(ascending = False)\n",
    "missing_test_data = pd.concat([total, percent], axis=1, keys=['Total', 'Percent'])\n",
    "missing_test_data.head()"
   ]
  },
  {
   "cell_type": "code",
   "execution_count": 10,
   "metadata": {
    "_cell_guid": "1a755817-75e7-403f-817a-7b6454e34610",
    "_uuid": "82eae6b65bc8b5d0ae588d54ad65cef9d20da314"
   },
   "outputs": [
    {
     "name": "stderr",
     "output_type": "stream",
     "text": [
      "100%|██████████| 500/500 [02:14<00:00,  3.72it/s]\n"
     ]
    }
   ],
   "source": [
    "# train_sample = train_data.sample(100)\n",
    "# train_imgs = []\n",
    "\n",
    "# pb = tqdm(total = 100)\n",
    "# for row in tqdm(train_sample.iterrows()):\n",
    "#     train_imgs += [grab(row[1]['url'])]\n",
    "#     pb.update(1)\n",
    "\n",
    "# pb.close()\n",
    "\n",
    "def sample(i):\n",
    "    img = None\n",
    "    while(img is None):\n",
    "        try:\n",
    "            img = grab(train_data.sample(1).iloc[0, 1])\n",
    "        except:\n",
    "            img = None\n",
    "\n",
    "    return img\n",
    "\n",
    "max_samples = 500\n",
    "pool = ThreadPool(20)\n",
    "train_imgs = [imgs for imgs in tqdm(pool.imap_unordered(sample, range(max_samples)), total = max_samples)]\n"
   ]
  },
  {
   "cell_type": "code",
   "execution_count": 11,
   "metadata": {},
   "outputs": [
    {
     "name": "stdout",
     "output_type": "stream",
     "text": [
      "Start Orb\n",
      "Orb time:  24.05862259864807\n"
     ]
    }
   ],
   "source": [
    "# Initiate ORB detector\n",
    "orb = cv2.ORB_create()\n",
    "\n",
    "# find the keypoints and descriptors with ORB\n",
    "# kp, des = orb.detectAndCompute(img,None)\n",
    "def getOrb(img):\n",
    "    return orb.detectAndCompute(img, None)\n",
    "print('Start Orb')\n",
    "t0 = time.time()\n",
    "features = [feat for feat in pool.map(getOrb, train_imgs)]\n",
    "print(\"Orb time: \", time.time() - t0)"
   ]
  },
  {
   "cell_type": "code",
   "execution_count": 12,
   "metadata": {},
   "outputs": [
    {
     "name": "stderr",
     "output_type": "stream",
     "text": [
      "100%|██████████| 100/100 [02:45<00:00,  1.66s/it]\n"
     ]
    }
   ],
   "source": [
    "max_vis = 100\n",
    "\n",
    "# features = [orb.detectAndCompute(img, None) for img in train_imgs]\n",
    "\n",
    "FLANN_INDEX_LSH = 6\n",
    "index_params= dict(algorithm = FLANN_INDEX_LSH,\n",
    "                   table_number = 6, # 12\n",
    "                   key_size = 12,     # 20\n",
    "                   multi_probe_level = 1) #2\n",
    "search_params = dict(checks=50)   # or pass empty dictionary\n",
    "\n",
    "flann = cv2.FlannBasedMatcher(index_params, search_params)\n",
    "\n",
    "permutation = np.zeros(max_vis, dtype = np.int32)\n",
    "score = np.zeros(max_vis, dtype = np.float32)\n",
    "for i, (kp1, ds1) in tqdm(enumerate(features[:max_vis]), total = max_vis):\n",
    "    for j, (kp2, ds2) in enumerate(features):\n",
    "        if j == i:\n",
    "            continue # Skip if we're comparing the same image\n",
    "        # Match every image in the trainset with every other image in the trainset\n",
    "        try:\n",
    "            m = flann.knnMatch(ds1, ds2, k = 2)\n",
    "        except:\n",
    "            continue\n",
    "        # Select the good matches and use them to calculate a score for the overall match of an image\n",
    "        score_img = 0\n",
    "        for k in range(len(m)):\n",
    "            if len(m[k]) != 2:\n",
    "                continue\n",
    "            if m[k][0].distance < 0.7 * m[k][1].distance:\n",
    "                # score is the sum of reciprocal of distances of all matched points\n",
    "                score_img += 1.0 / (m[k][0].distance + 1e-7)\n",
    "\n",
    "        if score_img > score[i] and score_img > 0.4:\n",
    "            score[i] = score_img\n",
    "            permutation[i] = j"
   ]
  },
  {
   "cell_type": "code",
   "execution_count": null,
   "metadata": {},
   "outputs": [],
   "source": [
    "print(permutation)"
   ]
  },
  {
   "cell_type": "code",
   "execution_count": null,
   "metadata": {},
   "outputs": [],
   "source": [
    "print(score)"
   ]
  },
  {
   "cell_type": "code",
   "execution_count": null,
   "metadata": {},
   "outputs": [],
   "source": [
    "i = 0\n",
    "while (i < max_vis):\n",
    "    if (score[i] == 0):\n",
    "        i += 1\n",
    "        continue\n",
    "    plt.figure(figsize = (10, 5))\n",
    "    plt.subplot(1, 2, 1)\n",
    "    plt.title(score[i])\n",
    "    plt.imshow(train_imgs[i])\n",
    "    plt.subplot(100, 2, 2)\n",
    "    plt.imshow(train_imgs[int(permutation[i])])"
   ]
  },
  {
   "cell_type": "code",
   "execution_count": null,
   "metadata": {},
   "outputs": [],
   "source": []
  },
  {
   "cell_type": "code",
   "execution_count": null,
   "metadata": {},
   "outputs": [],
   "source": []
  }
 ],
 "metadata": {
  "kernelspec": {
   "display_name": "Python 3",
   "language": "python",
   "name": "python3"
  },
  "language_info": {
   "codemirror_mode": {
    "name": "ipython",
    "version": 3
   },
   "file_extension": ".py",
   "mimetype": "text/x-python",
   "name": "python",
   "nbconvert_exporter": "python",
   "pygments_lexer": "ipython3",
   "version": "3.6.4"
  }
 },
 "nbformat": 4,
 "nbformat_minor": 1
}
