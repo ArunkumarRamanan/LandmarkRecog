{
 "cells": [
  {
   "cell_type": "markdown",
   "metadata": {
    "_cell_guid": "d8f0f342-17a5-472f-9558-3a1cd7f2635d",
    "_uuid": "cbbe943cd1bf74c0268d00f2d9793211ec4ed079"
   },
   "source": [
    "![](https://img-aws.ehowcdn.com/560x560/photos.demandstudios.com/getty/article/151/36/87689206.jpg)"
   ]
  },
  {
   "cell_type": "markdown",
   "metadata": {
    "_cell_guid": "ec589df5-21bf-4a3c-b064-bb0d170e6f15",
    "_uuid": "67d27a7ec3a162779547b03bbcfa2861e386e497"
   },
   "source": [
    "# More To Come. Stay Tuned. !!\n",
    "In this Notrebook, I did  Google Landmark Retrieval Exploratory Analysis.\n",
    "If there are any suggestions/changes you would like to see in the Kernel please let me know :). Appreciate every ounce of help!\n",
    "\n",
    "This notebook will always be a work in progress. Please leave any comments about further improvements to the notebook! Any feedback or constructive criticism is greatly appreciated!.\n",
    "** If you like it or it helps you , you can upvote and/or leave a comment :).**\n"
   ]
  },
  {
   "cell_type": "code",
   "execution_count": 1,
   "metadata": {
    "_cell_guid": "ada7992e-8c85-4b9d-8458-3cd6189f9a47",
    "_uuid": "db78b88a82e57fd299e39dcc993e287a671fd143"
   },
   "outputs": [],
   "source": [
    "# This Python 3 environment comes with many helpful analytics libraries installed\n",
    "# It is defined by the kaggle/python docker image: https://github.com/kaggle/docker-python\n",
    "# For example, here's several helpful packages to load in \n",
    "\n",
    "import numpy as np # linear algebra \n",
    "import pandas as pd # data processing, CSV file I/O (e.g. pd.read_csv)\n",
    "import matplotlib.pyplot as plt\n",
    "import seaborn as sns\n",
    "\n",
    "%matplotlib inline "
   ]
  },
  {
   "cell_type": "code",
   "execution_count": 2,
   "metadata": {
    "_cell_guid": "857881d9-288a-4db2-ae81-4525dff8d8e1",
    "_uuid": "4a84e62634d4d392139124f1895bc0d7d2bb3196"
   },
   "outputs": [],
   "source": [
    "train_data = pd.read_csv('/home/data/LandmarkRetrieval/index.csv')\n",
    "test_data = pd.read_csv('/home/data/LandmarkRetrieval/test.csv')\n",
    "submission = pd.read_csv('/home/data/LandmarkRetrieval/sample_submission.csv')"
   ]
  },
  {
   "cell_type": "code",
   "execution_count": 3,
   "metadata": {
    "_cell_guid": "8024e053-43a7-4da1-9cf2-255b7a5c8457",
    "_uuid": "fa4b77268d8331845877330f19b16569f2e4e611"
   },
   "outputs": [
    {
     "name": "stdout",
     "output_type": "stream",
     "text": [
      "Training data size (1098461, 2)\n",
      "test data size (117703, 2)\n"
     ]
    }
   ],
   "source": [
    "print(\"Training data size\",train_data.shape)\n",
    "print(\"test data size\",test_data.shape)"
   ]
  },
  {
   "cell_type": "code",
   "execution_count": 4,
   "metadata": {
    "_cell_guid": "80eafb6c-0037-41c5-94b1-f5683c2a178e",
    "_uuid": "e87872dd76b0b354fbf2fb96e951032a8459020b"
   },
   "outputs": [
    {
     "data": {
      "text/html": [
       "<div>\n",
       "<style scoped>\n",
       "    .dataframe tbody tr th:only-of-type {\n",
       "        vertical-align: middle;\n",
       "    }\n",
       "\n",
       "    .dataframe tbody tr th {\n",
       "        vertical-align: top;\n",
       "    }\n",
       "\n",
       "    .dataframe thead th {\n",
       "        text-align: right;\n",
       "    }\n",
       "</style>\n",
       "<table border=\"1\" class=\"dataframe\">\n",
       "  <thead>\n",
       "    <tr style=\"text-align: right;\">\n",
       "      <th></th>\n",
       "      <th>id</th>\n",
       "      <th>url</th>\n",
       "    </tr>\n",
       "  </thead>\n",
       "  <tbody>\n",
       "    <tr>\n",
       "      <th>0</th>\n",
       "      <td>b09ea096f4daa42e</td>\n",
       "      <td>https://lh5.googleusercontent.com/-wBt6sklzbGs...</td>\n",
       "    </tr>\n",
       "    <tr>\n",
       "      <th>1</th>\n",
       "      <td>6648383c7b3a438c</td>\n",
       "      <td>https://lh3.googleusercontent.com/-OADWsOZq83E...</td>\n",
       "    </tr>\n",
       "    <tr>\n",
       "      <th>2</th>\n",
       "      <td>d485d9f770e40453</td>\n",
       "      <td>https://lh5.googleusercontent.com/-vtZFUTuFWGM...</td>\n",
       "    </tr>\n",
       "    <tr>\n",
       "      <th>3</th>\n",
       "      <td>e7cdfba9ec7e9dd5</td>\n",
       "      <td>https://lh4.googleusercontent.com/-Skq6Q-VUALk...</td>\n",
       "    </tr>\n",
       "    <tr>\n",
       "      <th>4</th>\n",
       "      <td>44806beb654e6410</td>\n",
       "      <td>https://lh4.googleusercontent.com/-6eIkjkr3j2w...</td>\n",
       "    </tr>\n",
       "  </tbody>\n",
       "</table>\n",
       "</div>"
      ],
      "text/plain": [
       "                 id                                                url\n",
       "0  b09ea096f4daa42e  https://lh5.googleusercontent.com/-wBt6sklzbGs...\n",
       "1  6648383c7b3a438c  https://lh3.googleusercontent.com/-OADWsOZq83E...\n",
       "2  d485d9f770e40453  https://lh5.googleusercontent.com/-vtZFUTuFWGM...\n",
       "3  e7cdfba9ec7e9dd5  https://lh4.googleusercontent.com/-Skq6Q-VUALk...\n",
       "4  44806beb654e6410  https://lh4.googleusercontent.com/-6eIkjkr3j2w..."
      ]
     },
     "execution_count": 4,
     "metadata": {},
     "output_type": "execute_result"
    }
   ],
   "source": [
    "train_data.head()"
   ]
  },
  {
   "cell_type": "code",
   "execution_count": 5,
   "metadata": {
    "_cell_guid": "43beb6c2-1715-42d4-a045-39eadb33b5be",
    "_uuid": "5e33a5f5b60612c83404595d4744158566fc5de3"
   },
   "outputs": [
    {
     "data": {
      "text/html": [
       "<div>\n",
       "<style scoped>\n",
       "    .dataframe tbody tr th:only-of-type {\n",
       "        vertical-align: middle;\n",
       "    }\n",
       "\n",
       "    .dataframe tbody tr th {\n",
       "        vertical-align: top;\n",
       "    }\n",
       "\n",
       "    .dataframe thead th {\n",
       "        text-align: right;\n",
       "    }\n",
       "</style>\n",
       "<table border=\"1\" class=\"dataframe\">\n",
       "  <thead>\n",
       "    <tr style=\"text-align: right;\">\n",
       "      <th></th>\n",
       "      <th>id</th>\n",
       "      <th>url</th>\n",
       "    </tr>\n",
       "  </thead>\n",
       "  <tbody>\n",
       "    <tr>\n",
       "      <th>0</th>\n",
       "      <td>000088da12d664db</td>\n",
       "      <td>https://lh3.googleusercontent.com/-k45wfamuhT8...</td>\n",
       "    </tr>\n",
       "    <tr>\n",
       "      <th>1</th>\n",
       "      <td>0001623c6d808702</td>\n",
       "      <td>https://lh3.googleusercontent.com/-OQ0ywv8KVIA...</td>\n",
       "    </tr>\n",
       "    <tr>\n",
       "      <th>2</th>\n",
       "      <td>0001bbb682d45002</td>\n",
       "      <td>https://lh3.googleusercontent.com/-kloLenz1xZk...</td>\n",
       "    </tr>\n",
       "    <tr>\n",
       "      <th>3</th>\n",
       "      <td>0002362830cfe3a3</td>\n",
       "      <td>https://lh3.googleusercontent.com/-N6z79jNZYTg...</td>\n",
       "    </tr>\n",
       "    <tr>\n",
       "      <th>4</th>\n",
       "      <td>000270c9100de789</td>\n",
       "      <td>https://lh3.googleusercontent.com/-keriHaVOq1U...</td>\n",
       "    </tr>\n",
       "  </tbody>\n",
       "</table>\n",
       "</div>"
      ],
      "text/plain": [
       "                 id                                                url\n",
       "0  000088da12d664db  https://lh3.googleusercontent.com/-k45wfamuhT8...\n",
       "1  0001623c6d808702  https://lh3.googleusercontent.com/-OQ0ywv8KVIA...\n",
       "2  0001bbb682d45002  https://lh3.googleusercontent.com/-kloLenz1xZk...\n",
       "3  0002362830cfe3a3  https://lh3.googleusercontent.com/-N6z79jNZYTg...\n",
       "4  000270c9100de789  https://lh3.googleusercontent.com/-keriHaVOq1U..."
      ]
     },
     "execution_count": 5,
     "metadata": {},
     "output_type": "execute_result"
    }
   ],
   "source": [
    "test_data.head()"
   ]
  },
  {
   "cell_type": "code",
   "execution_count": 6,
   "metadata": {
    "_cell_guid": "de273dd2-311f-4d27-9197-251567936c87",
    "_uuid": "29f629b5648540fe2a999e30ffec54b9d96cd84c"
   },
   "outputs": [
    {
     "data": {
      "text/html": [
       "<div>\n",
       "<style scoped>\n",
       "    .dataframe tbody tr th:only-of-type {\n",
       "        vertical-align: middle;\n",
       "    }\n",
       "\n",
       "    .dataframe tbody tr th {\n",
       "        vertical-align: top;\n",
       "    }\n",
       "\n",
       "    .dataframe thead th {\n",
       "        text-align: right;\n",
       "    }\n",
       "</style>\n",
       "<table border=\"1\" class=\"dataframe\">\n",
       "  <thead>\n",
       "    <tr style=\"text-align: right;\">\n",
       "      <th></th>\n",
       "      <th>id</th>\n",
       "      <th>images</th>\n",
       "    </tr>\n",
       "  </thead>\n",
       "  <tbody>\n",
       "    <tr>\n",
       "      <th>0</th>\n",
       "      <td>000088da12d664db</td>\n",
       "      <td>0370c4c856f096e8 766677ab964f4311 e3ae4dcee813...</td>\n",
       "    </tr>\n",
       "    <tr>\n",
       "      <th>1</th>\n",
       "      <td>0001623c6d808702</td>\n",
       "      <td>b01175326ee19742 67eb4fc9ff184bd2 0f775e72c031...</td>\n",
       "    </tr>\n",
       "    <tr>\n",
       "      <th>2</th>\n",
       "      <td>0001bbb682d45002</td>\n",
       "      <td>5101d06f891261be ae9c548dcf7102e2 a42098eb2dd3...</td>\n",
       "    </tr>\n",
       "    <tr>\n",
       "      <th>3</th>\n",
       "      <td>0002362830cfe3a3</td>\n",
       "      <td>40cb31b754bb7249 f860d7fbb0073fab 492c16c0584d...</td>\n",
       "    </tr>\n",
       "    <tr>\n",
       "      <th>4</th>\n",
       "      <td>000270c9100de789</td>\n",
       "      <td>fe3a62d9b50ca221 5005114ed61af1bc 754e137d888d...</td>\n",
       "    </tr>\n",
       "  </tbody>\n",
       "</table>\n",
       "</div>"
      ],
      "text/plain": [
       "                 id                                             images\n",
       "0  000088da12d664db  0370c4c856f096e8 766677ab964f4311 e3ae4dcee813...\n",
       "1  0001623c6d808702  b01175326ee19742 67eb4fc9ff184bd2 0f775e72c031...\n",
       "2  0001bbb682d45002  5101d06f891261be ae9c548dcf7102e2 a42098eb2dd3...\n",
       "3  0002362830cfe3a3  40cb31b754bb7249 f860d7fbb0073fab 492c16c0584d...\n",
       "4  000270c9100de789  fe3a62d9b50ca221 5005114ed61af1bc 754e137d888d..."
      ]
     },
     "execution_count": 6,
     "metadata": {},
     "output_type": "execute_result"
    }
   ],
   "source": [
    "submission.head()"
   ]
  },
  {
   "cell_type": "code",
   "execution_count": 7,
   "metadata": {
    "_cell_guid": "38be190a-dc34-4645-97a7-f409c88d0633",
    "_uuid": "5200b65d6dc97f611edfcaa6655d57731872d01a"
   },
   "outputs": [
    {
     "name": "stdout",
     "output_type": "stream",
     "text": [
      "id 731bf321dc92bdfc\n",
      "url: https://lh4.googleusercontent.com/-gQEUjiYZrAA/UhcFIFIAJXI/AAAAAAAAE_o/yZ_s7e_zWvg/s1600/\n"
     ]
    }
   ],
   "source": [
    "# now open the URL\n",
    "temp = 4444\n",
    "print('id', train_data['id'][temp])\n",
    "print('url:', train_data['url'][temp])"
   ]
  },
  {
   "cell_type": "code",
   "execution_count": 8,
   "metadata": {
    "_cell_guid": "d4199cd3-88e6-4c59-b974-3d04d4d115b9",
    "_uuid": "8a2c7c1618a6c785edbb6fc088a5b5b2e55e1713"
   },
   "outputs": [
    {
     "data": {
      "text/html": [
       "<div>\n",
       "<style scoped>\n",
       "    .dataframe tbody tr th:only-of-type {\n",
       "        vertical-align: middle;\n",
       "    }\n",
       "\n",
       "    .dataframe tbody tr th {\n",
       "        vertical-align: top;\n",
       "    }\n",
       "\n",
       "    .dataframe thead th {\n",
       "        text-align: right;\n",
       "    }\n",
       "</style>\n",
       "<table border=\"1\" class=\"dataframe\">\n",
       "  <thead>\n",
       "    <tr style=\"text-align: right;\">\n",
       "      <th></th>\n",
       "      <th>Total</th>\n",
       "      <th>Percent</th>\n",
       "    </tr>\n",
       "  </thead>\n",
       "  <tbody>\n",
       "    <tr>\n",
       "      <th>url</th>\n",
       "      <td>0</td>\n",
       "      <td>0.0</td>\n",
       "    </tr>\n",
       "    <tr>\n",
       "      <th>id</th>\n",
       "      <td>0</td>\n",
       "      <td>0.0</td>\n",
       "    </tr>\n",
       "  </tbody>\n",
       "</table>\n",
       "</div>"
      ],
      "text/plain": [
       "     Total  Percent\n",
       "url      0      0.0\n",
       "id       0      0.0"
      ]
     },
     "execution_count": 8,
     "metadata": {},
     "output_type": "execute_result"
    }
   ],
   "source": [
    "# missing data in training data \n",
    "total = train_data.isnull().sum().sort_values(ascending = False)\n",
    "percent = (train_data.isnull().sum()/train_data.isnull().count()).sort_values(ascending = False)\n",
    "missing_train_data = pd.concat([total, percent], axis=1, keys=['Total', 'Percent'])\n",
    "missing_train_data.head()"
   ]
  },
  {
   "cell_type": "code",
   "execution_count": 9,
   "metadata": {
    "_cell_guid": "def08573-3814-4a59-b741-36e77cdfa412",
    "_uuid": "8b715767b47e548004bb182fc3145be66a43afdf"
   },
   "outputs": [
    {
     "data": {
      "text/html": [
       "<div>\n",
       "<style scoped>\n",
       "    .dataframe tbody tr th:only-of-type {\n",
       "        vertical-align: middle;\n",
       "    }\n",
       "\n",
       "    .dataframe tbody tr th {\n",
       "        vertical-align: top;\n",
       "    }\n",
       "\n",
       "    .dataframe thead th {\n",
       "        text-align: right;\n",
       "    }\n",
       "</style>\n",
       "<table border=\"1\" class=\"dataframe\">\n",
       "  <thead>\n",
       "    <tr style=\"text-align: right;\">\n",
       "      <th></th>\n",
       "      <th>Total</th>\n",
       "      <th>Percent</th>\n",
       "    </tr>\n",
       "  </thead>\n",
       "  <tbody>\n",
       "    <tr>\n",
       "      <th>url</th>\n",
       "      <td>0</td>\n",
       "      <td>0.0</td>\n",
       "    </tr>\n",
       "    <tr>\n",
       "      <th>id</th>\n",
       "      <td>0</td>\n",
       "      <td>0.0</td>\n",
       "    </tr>\n",
       "  </tbody>\n",
       "</table>\n",
       "</div>"
      ],
      "text/plain": [
       "     Total  Percent\n",
       "url      0      0.0\n",
       "id       0      0.0"
      ]
     },
     "execution_count": 9,
     "metadata": {},
     "output_type": "execute_result"
    }
   ],
   "source": [
    "# missing data in test data \n",
    "total = test_data.isnull().sum().sort_values(ascending = False)\n",
    "percent = (test_data.isnull().sum()/test_data.isnull().count()).sort_values(ascending = False)\n",
    "missing_test_data = pd.concat([total, percent], axis=1, keys=['Total', 'Percent'])\n",
    "missing_test_data.head()"
   ]
  },
  {
   "cell_type": "markdown",
   "metadata": {
    "_cell_guid": "3ad0ac03-2500-47fb-8a27-078c3c515c55",
    "_uuid": "2c2be823cceb64eecb29f13d479449f781969142"
   },
   "source": [
    "## Lets display some images from URLs"
   ]
  },
  {
   "cell_type": "code",
   "execution_count": 10,
   "metadata": {
    "_cell_guid": "61d3e07b-6b8d-4a1e-932a-2748497f66cc",
    "_uuid": "8f72c0327f8155909650f4d9d1ce83083d8ff2b1"
   },
   "outputs": [],
   "source": [
    "from IPython.display import Image\n",
    "from IPython.core.display import HTML \n",
    "\n",
    "def display_category(urls, category_name):\n",
    "    img_style = \"width: 180px; margin: 0px; float: left; border: 1px solid black;\"\n",
    "    images_list = ''.join([f\"<img style='{img_style}' src='{u}' />\" for _, u in urls.head(20).iteritems()])\n",
    "\n",
    "    display(HTML(images_list))"
   ]
  },
  {
   "cell_type": "code",
   "execution_count": 23,
   "metadata": {
    "_cell_guid": "7f70e8f8-0677-4a07-83d6-e986497611d7",
    "_uuid": "56e2635b8a75922a77c97d78447c794e6580037a"
   },
   "outputs": [
    {
     "data": {
      "text/html": [
       "<img style='width: 180px; margin: 0px; float: left; border: 1px solid black;' src='https://lh5.googleusercontent.com/-wBt6sklzbGs/SZGP_M9fmVI/AAAAAAAAAI8/CPeKaQtSpwA/s1600/' /><img style='width: 180px; margin: 0px; float: left; border: 1px solid black;' src='https://lh3.googleusercontent.com/-OADWsOZq83E/ScwYRY2RCDI/AAAAAAAABjE/EiocQv4Brec/s1600/' /><img style='width: 180px; margin: 0px; float: left; border: 1px solid black;' src='https://lh5.googleusercontent.com/-vtZFUTuFWGM/R2orfS0FF0I/AAAAAAAAAk8/Qistl92rR_g/rj/' /><img style='width: 180px; margin: 0px; float: left; border: 1px solid black;' src='https://lh4.googleusercontent.com/-Skq6Q-VUALk/UqOeFhQKtzI/AAAAAAAABxE/OHjSQVoPrrQ/s106-p/' /><img style='width: 180px; margin: 0px; float: left; border: 1px solid black;' src='https://lh4.googleusercontent.com/-6eIkjkr3j2w/SVJ29Tvs3hI/AAAAAAAAAs8/9KMnTpTpP90/s1600/' /><img style='width: 180px; margin: 0px; float: left; border: 1px solid black;' src='https://lh5.googleusercontent.com/-NIQkGN6FRuw/UpuZzijPsLI/AAAAAAAAYM4/_JZmsvSA3Lg/s1600/' /><img style='width: 180px; margin: 0px; float: left; border: 1px solid black;' src='http://lh5.ggpht.com/-aHODQcvDw30/S-g3zWUjSZI/AAAAAAAAASA/3UpE0NurGI0/s1600/' /><img style='width: 180px; margin: 0px; float: left; border: 1px solid black;' src='https://lh3.googleusercontent.com/-2-gT2aJmcJ4/UHpzezQFWgI/AAAAAAAEK4Q/ER0PmZ5NdPw/s1600/' /><img style='width: 180px; margin: 0px; float: left; border: 1px solid black;' src='http://lh3.ggpht.com/-i1dwbs6lhEg/SMkhVcjUKlI/AAAAAAAAAPQ/psFxLUjsf6c/s1600/' /><img style='width: 180px; margin: 0px; float: left; border: 1px solid black;' src='http://mw2.google.com/mw-panoramio/photos/medium/60760466.jpg' /><img style='width: 180px; margin: 0px; float: left; border: 1px solid black;' src='https://lh6.googleusercontent.com/-q2rAGg4I44Y/UwT2UBe1abI/AAAAAAAAAwo/djSU6SgMkfA/s1600/' /><img style='width: 180px; margin: 0px; float: left; border: 1px solid black;' src='https://lh6.googleusercontent.com/-PwSdIHXP9ok/RauFS4avUmI/AAAAAAAAAVo/5fk93CD3qE8/s1600/' /><img style='width: 180px; margin: 0px; float: left; border: 1px solid black;' src='http://lh4.ggpht.com/-4zjTxgvI5mo/SmwhMwagSDI/AAAAAAAADQQ/fSIRXLYWW1I/s1600/' /><img style='width: 180px; margin: 0px; float: left; border: 1px solid black;' src='https://lh3.googleusercontent.com/-9zJ8arldkKI/TlD3wTP50OI/AAAAAAAABf0/s-6eVroXw_0/s1600/' /><img style='width: 180px; margin: 0px; float: left; border: 1px solid black;' src='https://lh6.googleusercontent.com/-deR4GSpZUsc/UoIWvva1QgI/AAAAAAACAEY/vES4E4JHk7g/s1600/' /><img style='width: 180px; margin: 0px; float: left; border: 1px solid black;' src='https://lh5.googleusercontent.com/-mMTJLJ3Wg70/SvIFxsckQEI/AAAAAAAAEP0/xIFwp7MYWXA/s1600/' /><img style='width: 180px; margin: 0px; float: left; border: 1px solid black;' src='http://lh3.ggpht.com/-xkjSjk4YjPg/TJ-bOCFDUCI/AAAAAAAAGGg/aB4d1zGqkFM/s1600/' /><img style='width: 180px; margin: 0px; float: left; border: 1px solid black;' src='https://lh3.googleusercontent.com/-HGG2mwZZJXs/TJPbwl2xclI/AAAAAAAAHOU/pKLc5LU7eaU/s1600/' /><img style='width: 180px; margin: 0px; float: left; border: 1px solid black;' src='https://lh4.googleusercontent.com/-itvvuqNGTR0/Tq9ItvwOSQI/AAAAAAAABG8/USWoPfRG4kw/s1600/' /><img style='width: 180px; margin: 0px; float: left; border: 1px solid black;' src='https://lh3.googleusercontent.com/-fD0ZGR8ZOoI/RiabT4K5-PI/AAAAAAAAAKA/kEZiQ8qMSBQ/rj/' />"
      ],
      "text/plain": [
       "<IPython.core.display.HTML object>"
      ]
     },
     "metadata": {},
     "output_type": "display_data"
    }
   ],
   "source": [
    "urls = train_data['url']\n",
    "display_category(urls, \"\")"
   ]
  },
  {
   "cell_type": "code",
   "execution_count": 12,
   "metadata": {
    "_cell_guid": "6f14852e-014d-4555-a831-ad2e4c268d41",
    "_uuid": "7d30236b3452cf0a46d575c20afa159691d33f9d"
   },
   "outputs": [
    {
     "data": {
      "text/html": [
       "<img style='width: 180px; margin: 0px; float: left; border: 1px solid black;' src='https://lh5.googleusercontent.com/-wBt6sklzbGs/SZGP_M9fmVI/AAAAAAAAAI8/CPeKaQtSpwA/s1600/' /><img style='width: 180px; margin: 0px; float: left; border: 1px solid black;' src='https://lh3.googleusercontent.com/-OADWsOZq83E/ScwYRY2RCDI/AAAAAAAABjE/EiocQv4Brec/s1600/' /><img style='width: 180px; margin: 0px; float: left; border: 1px solid black;' src='https://lh5.googleusercontent.com/-vtZFUTuFWGM/R2orfS0FF0I/AAAAAAAAAk8/Qistl92rR_g/rj/' /><img style='width: 180px; margin: 0px; float: left; border: 1px solid black;' src='https://lh4.googleusercontent.com/-Skq6Q-VUALk/UqOeFhQKtzI/AAAAAAAABxE/OHjSQVoPrrQ/s106-p/' /><img style='width: 180px; margin: 0px; float: left; border: 1px solid black;' src='https://lh4.googleusercontent.com/-6eIkjkr3j2w/SVJ29Tvs3hI/AAAAAAAAAs8/9KMnTpTpP90/s1600/' /><img style='width: 180px; margin: 0px; float: left; border: 1px solid black;' src='https://lh5.googleusercontent.com/-NIQkGN6FRuw/UpuZzijPsLI/AAAAAAAAYM4/_JZmsvSA3Lg/s1600/' /><img style='width: 180px; margin: 0px; float: left; border: 1px solid black;' src='http://lh5.ggpht.com/-aHODQcvDw30/S-g3zWUjSZI/AAAAAAAAASA/3UpE0NurGI0/s1600/' /><img style='width: 180px; margin: 0px; float: left; border: 1px solid black;' src='https://lh3.googleusercontent.com/-2-gT2aJmcJ4/UHpzezQFWgI/AAAAAAAEK4Q/ER0PmZ5NdPw/s1600/' /><img style='width: 180px; margin: 0px; float: left; border: 1px solid black;' src='http://lh3.ggpht.com/-i1dwbs6lhEg/SMkhVcjUKlI/AAAAAAAAAPQ/psFxLUjsf6c/s1600/' /><img style='width: 180px; margin: 0px; float: left; border: 1px solid black;' src='http://mw2.google.com/mw-panoramio/photos/medium/60760466.jpg' /><img style='width: 180px; margin: 0px; float: left; border: 1px solid black;' src='https://lh6.googleusercontent.com/-q2rAGg4I44Y/UwT2UBe1abI/AAAAAAAAAwo/djSU6SgMkfA/s1600/' /><img style='width: 180px; margin: 0px; float: left; border: 1px solid black;' src='https://lh6.googleusercontent.com/-PwSdIHXP9ok/RauFS4avUmI/AAAAAAAAAVo/5fk93CD3qE8/s1600/' /><img style='width: 180px; margin: 0px; float: left; border: 1px solid black;' src='http://lh4.ggpht.com/-4zjTxgvI5mo/SmwhMwagSDI/AAAAAAAADQQ/fSIRXLYWW1I/s1600/' /><img style='width: 180px; margin: 0px; float: left; border: 1px solid black;' src='https://lh3.googleusercontent.com/-9zJ8arldkKI/TlD3wTP50OI/AAAAAAAABf0/s-6eVroXw_0/s1600/' /><img style='width: 180px; margin: 0px; float: left; border: 1px solid black;' src='https://lh6.googleusercontent.com/-deR4GSpZUsc/UoIWvva1QgI/AAAAAAACAEY/vES4E4JHk7g/s1600/' /><img style='width: 180px; margin: 0px; float: left; border: 1px solid black;' src='https://lh5.googleusercontent.com/-mMTJLJ3Wg70/SvIFxsckQEI/AAAAAAAAEP0/xIFwp7MYWXA/s1600/' /><img style='width: 180px; margin: 0px; float: left; border: 1px solid black;' src='http://lh3.ggpht.com/-xkjSjk4YjPg/TJ-bOCFDUCI/AAAAAAAAGGg/aB4d1zGqkFM/s1600/' /><img style='width: 180px; margin: 0px; float: left; border: 1px solid black;' src='https://lh3.googleusercontent.com/-HGG2mwZZJXs/TJPbwl2xclI/AAAAAAAAHOU/pKLc5LU7eaU/s1600/' /><img style='width: 180px; margin: 0px; float: left; border: 1px solid black;' src='https://lh4.googleusercontent.com/-itvvuqNGTR0/Tq9ItvwOSQI/AAAAAAAABG8/USWoPfRG4kw/s1600/' /><img style='width: 180px; margin: 0px; float: left; border: 1px solid black;' src='https://lh3.googleusercontent.com/-fD0ZGR8ZOoI/RiabT4K5-PI/AAAAAAAAAKA/kEZiQ8qMSBQ/rj/' />"
      ],
      "text/plain": [
       "<IPython.core.display.HTML object>"
      ]
     },
     "metadata": {},
     "output_type": "display_data"
    }
   ],
   "source": [
    "urls = train_data['url']\n",
    "display_category(urls, \"\")"
   ]
  },
  {
   "cell_type": "markdown",
   "metadata": {
    "_cell_guid": "23658726-34b0-4fb6-9440-0c4c0d73f080",
    "_uuid": "c37c00d96271443595936fe6795c87b5d75a5b0d",
    "collapsed": true
   },
   "source": [
    "## Lets see unique URL"
   ]
  },
  {
   "cell_type": "code",
   "execution_count": 13,
   "metadata": {
    "_cell_guid": "70bc4c5f-11d1-4475-b7a2-50d6481c7731",
    "_uuid": "ae9d7d2faeb101bf6ee91cbf26470a82624e4725"
   },
   "outputs": [
    {
     "name": "stdout",
     "output_type": "stream",
     "text": [
      "<class 'pandas.core.frame.DataFrame'>\n"
     ]
    },
    {
     "data": {
      "text/plain": [
       "id     1098461\n",
       "url    1098461\n",
       "dtype: int64"
      ]
     },
     "execution_count": 13,
     "metadata": {},
     "output_type": "execute_result"
    }
   ],
   "source": [
    "# Unique URL's\n",
    "print(type(train_data))\n",
    "train_data.nunique()"
   ]
  },
  {
   "cell_type": "markdown",
   "metadata": {
    "_cell_guid": "9d541b25-1570-485e-973c-e8166b4d4939",
    "_uuid": "7933ada90d700116a9694592e88991a759409c1e"
   },
   "source": [
    "## All URLs are unique."
   ]
  },
  {
   "cell_type": "markdown",
   "metadata": {
    "_cell_guid": "772996f4-bff0-4e78-b043-d92d269da44a",
    "_uuid": "71c9ba242d71550eec2c0752823dc18b2c72aaab"
   },
   "source": [
    "## Now Lets extract the website names and see their occurances"
   ]
  },
  {
   "cell_type": "code",
   "execution_count": 14,
   "metadata": {
    "_cell_guid": "e209a63d-dcd4-4411-a9a0-853bf413ad9b",
    "_uuid": "0af0ce8e202de9c88a4f51ee95ca40c80a0b1965"
   },
   "outputs": [],
   "source": [
    "# Extract site_names for train data\n",
    "temp_list = list()\n",
    "for path in train_data['url']:\n",
    "    temp_list.append((path.split('//', 1)[1]).split('/', 1)[0])\n",
    "train_data['site_name'] = temp_list\n",
    "# Extract site_names for test data\n",
    "temp_list = list()\n",
    "for path in test_data['url']:\n",
    "    temp_list.append((path.split('//', 1)[1]).split('/', 1)[0])\n",
    "test_data['site_name'] = temp_list"
   ]
  },
  {
   "cell_type": "markdown",
   "metadata": {
    "_cell_guid": "6f9e8155-098f-4b51-89b0-0ed18164153e",
    "_uuid": "0b23016f72e53387982ea23d830a2bb5ee8f75f2"
   },
   "source": [
    "### We have added one new column \"site_name\". lets see"
   ]
  },
  {
   "cell_type": "code",
   "execution_count": 15,
   "metadata": {
    "_cell_guid": "3575349c-9b47-40ca-adcf-90a2f14294c8",
    "_uuid": "3a59579c661271d51d441e08f64e039d8e1c9d96"
   },
   "outputs": [
    {
     "name": "stdout",
     "output_type": "stream",
     "text": [
      "Training data size (1098461, 3)\n",
      "test data size (117703, 3)\n"
     ]
    }
   ],
   "source": [
    "print(\"Training data size\",train_data.shape)\n",
    "print(\"test data size\",test_data.shape)"
   ]
  },
  {
   "cell_type": "code",
   "execution_count": 16,
   "metadata": {
    "_cell_guid": "3bf28be2-b181-41af-ae6d-cb480421b4b8",
    "_uuid": "405d7c42b681937165f3fd4198a47d945b07f602"
   },
   "outputs": [
    {
     "data": {
      "text/html": [
       "<div>\n",
       "<style scoped>\n",
       "    .dataframe tbody tr th:only-of-type {\n",
       "        vertical-align: middle;\n",
       "    }\n",
       "\n",
       "    .dataframe tbody tr th {\n",
       "        vertical-align: top;\n",
       "    }\n",
       "\n",
       "    .dataframe thead th {\n",
       "        text-align: right;\n",
       "    }\n",
       "</style>\n",
       "<table border=\"1\" class=\"dataframe\">\n",
       "  <thead>\n",
       "    <tr style=\"text-align: right;\">\n",
       "      <th></th>\n",
       "      <th>id</th>\n",
       "      <th>url</th>\n",
       "      <th>site_name</th>\n",
       "    </tr>\n",
       "  </thead>\n",
       "  <tbody>\n",
       "    <tr>\n",
       "      <th>0</th>\n",
       "      <td>b09ea096f4daa42e</td>\n",
       "      <td>https://lh5.googleusercontent.com/-wBt6sklzbGs...</td>\n",
       "      <td>lh5.googleusercontent.com</td>\n",
       "    </tr>\n",
       "    <tr>\n",
       "      <th>1</th>\n",
       "      <td>6648383c7b3a438c</td>\n",
       "      <td>https://lh3.googleusercontent.com/-OADWsOZq83E...</td>\n",
       "      <td>lh3.googleusercontent.com</td>\n",
       "    </tr>\n",
       "    <tr>\n",
       "      <th>2</th>\n",
       "      <td>d485d9f770e40453</td>\n",
       "      <td>https://lh5.googleusercontent.com/-vtZFUTuFWGM...</td>\n",
       "      <td>lh5.googleusercontent.com</td>\n",
       "    </tr>\n",
       "    <tr>\n",
       "      <th>3</th>\n",
       "      <td>e7cdfba9ec7e9dd5</td>\n",
       "      <td>https://lh4.googleusercontent.com/-Skq6Q-VUALk...</td>\n",
       "      <td>lh4.googleusercontent.com</td>\n",
       "    </tr>\n",
       "    <tr>\n",
       "      <th>4</th>\n",
       "      <td>44806beb654e6410</td>\n",
       "      <td>https://lh4.googleusercontent.com/-6eIkjkr3j2w...</td>\n",
       "      <td>lh4.googleusercontent.com</td>\n",
       "    </tr>\n",
       "    <tr>\n",
       "      <th>5</th>\n",
       "      <td>bbecba89db6a9bec</td>\n",
       "      <td>https://lh5.googleusercontent.com/-NIQkGN6FRuw...</td>\n",
       "      <td>lh5.googleusercontent.com</td>\n",
       "    </tr>\n",
       "    <tr>\n",
       "      <th>6</th>\n",
       "      <td>b03b500b28655072</td>\n",
       "      <td>http://lh5.ggpht.com/-aHODQcvDw30/S-g3zWUjSZI/...</td>\n",
       "      <td>lh5.ggpht.com</td>\n",
       "    </tr>\n",
       "    <tr>\n",
       "      <th>7</th>\n",
       "      <td>f3ba87e473810669</td>\n",
       "      <td>https://lh3.googleusercontent.com/-2-gT2aJmcJ4...</td>\n",
       "      <td>lh3.googleusercontent.com</td>\n",
       "    </tr>\n",
       "  </tbody>\n",
       "</table>\n",
       "</div>"
      ],
      "text/plain": [
       "                 id                                                url  \\\n",
       "0  b09ea096f4daa42e  https://lh5.googleusercontent.com/-wBt6sklzbGs...   \n",
       "1  6648383c7b3a438c  https://lh3.googleusercontent.com/-OADWsOZq83E...   \n",
       "2  d485d9f770e40453  https://lh5.googleusercontent.com/-vtZFUTuFWGM...   \n",
       "3  e7cdfba9ec7e9dd5  https://lh4.googleusercontent.com/-Skq6Q-VUALk...   \n",
       "4  44806beb654e6410  https://lh4.googleusercontent.com/-6eIkjkr3j2w...   \n",
       "5  bbecba89db6a9bec  https://lh5.googleusercontent.com/-NIQkGN6FRuw...   \n",
       "6  b03b500b28655072  http://lh5.ggpht.com/-aHODQcvDw30/S-g3zWUjSZI/...   \n",
       "7  f3ba87e473810669  https://lh3.googleusercontent.com/-2-gT2aJmcJ4...   \n",
       "\n",
       "                   site_name  \n",
       "0  lh5.googleusercontent.com  \n",
       "1  lh3.googleusercontent.com  \n",
       "2  lh5.googleusercontent.com  \n",
       "3  lh4.googleusercontent.com  \n",
       "4  lh4.googleusercontent.com  \n",
       "5  lh5.googleusercontent.com  \n",
       "6              lh5.ggpht.com  \n",
       "7  lh3.googleusercontent.com  "
      ]
     },
     "execution_count": 16,
     "metadata": {},
     "output_type": "execute_result"
    }
   ],
   "source": [
    "train_data.head(8)"
   ]
  },
  {
   "cell_type": "code",
   "execution_count": 17,
   "metadata": {
    "_cell_guid": "2d35e473-759f-49b1-856f-fa4bcb63f34e",
    "_uuid": "aed88b6ef4648a2d1c3be28e846f8c129887a465"
   },
   "outputs": [
    {
     "data": {
      "text/html": [
       "<div>\n",
       "<style scoped>\n",
       "    .dataframe tbody tr th:only-of-type {\n",
       "        vertical-align: middle;\n",
       "    }\n",
       "\n",
       "    .dataframe tbody tr th {\n",
       "        vertical-align: top;\n",
       "    }\n",
       "\n",
       "    .dataframe thead th {\n",
       "        text-align: right;\n",
       "    }\n",
       "</style>\n",
       "<table border=\"1\" class=\"dataframe\">\n",
       "  <thead>\n",
       "    <tr style=\"text-align: right;\">\n",
       "      <th></th>\n",
       "      <th>id</th>\n",
       "      <th>url</th>\n",
       "      <th>site_name</th>\n",
       "    </tr>\n",
       "  </thead>\n",
       "  <tbody>\n",
       "    <tr>\n",
       "      <th>0</th>\n",
       "      <td>000088da12d664db</td>\n",
       "      <td>https://lh3.googleusercontent.com/-k45wfamuhT8...</td>\n",
       "      <td>lh3.googleusercontent.com</td>\n",
       "    </tr>\n",
       "    <tr>\n",
       "      <th>1</th>\n",
       "      <td>0001623c6d808702</td>\n",
       "      <td>https://lh3.googleusercontent.com/-OQ0ywv8KVIA...</td>\n",
       "      <td>lh3.googleusercontent.com</td>\n",
       "    </tr>\n",
       "    <tr>\n",
       "      <th>2</th>\n",
       "      <td>0001bbb682d45002</td>\n",
       "      <td>https://lh3.googleusercontent.com/-kloLenz1xZk...</td>\n",
       "      <td>lh3.googleusercontent.com</td>\n",
       "    </tr>\n",
       "    <tr>\n",
       "      <th>3</th>\n",
       "      <td>0002362830cfe3a3</td>\n",
       "      <td>https://lh3.googleusercontent.com/-N6z79jNZYTg...</td>\n",
       "      <td>lh3.googleusercontent.com</td>\n",
       "    </tr>\n",
       "    <tr>\n",
       "      <th>4</th>\n",
       "      <td>000270c9100de789</td>\n",
       "      <td>https://lh3.googleusercontent.com/-keriHaVOq1U...</td>\n",
       "      <td>lh3.googleusercontent.com</td>\n",
       "    </tr>\n",
       "  </tbody>\n",
       "</table>\n",
       "</div>"
      ],
      "text/plain": [
       "                 id                                                url  \\\n",
       "0  000088da12d664db  https://lh3.googleusercontent.com/-k45wfamuhT8...   \n",
       "1  0001623c6d808702  https://lh3.googleusercontent.com/-OQ0ywv8KVIA...   \n",
       "2  0001bbb682d45002  https://lh3.googleusercontent.com/-kloLenz1xZk...   \n",
       "3  0002362830cfe3a3  https://lh3.googleusercontent.com/-N6z79jNZYTg...   \n",
       "4  000270c9100de789  https://lh3.googleusercontent.com/-keriHaVOq1U...   \n",
       "\n",
       "                   site_name  \n",
       "0  lh3.googleusercontent.com  \n",
       "1  lh3.googleusercontent.com  \n",
       "2  lh3.googleusercontent.com  \n",
       "3  lh3.googleusercontent.com  \n",
       "4  lh3.googleusercontent.com  "
      ]
     },
     "execution_count": 17,
     "metadata": {},
     "output_type": "execute_result"
    }
   ],
   "source": [
    "test_data.head()"
   ]
  },
  {
   "cell_type": "markdown",
   "metadata": {
    "_cell_guid": "15a22229-2acd-4cab-8694-29f8237b2745",
    "_uuid": "c194791574a11efd2edb5eb42564ccfc9d792cd3"
   },
   "source": [
    "### occurances of sites in train_data"
   ]
  },
  {
   "cell_type": "code",
   "execution_count": 18,
   "metadata": {
    "_cell_guid": "f7e43235-8715-4035-ae9e-bc7dbc3cff0e",
    "_uuid": "79956d479a29d94d5c9367b736916196bd5aefa5"
   },
   "outputs": [
    {
     "data": {
      "text/html": [
       "<div>\n",
       "<style scoped>\n",
       "    .dataframe tbody tr th:only-of-type {\n",
       "        vertical-align: middle;\n",
       "    }\n",
       "\n",
       "    .dataframe tbody tr th {\n",
       "        vertical-align: top;\n",
       "    }\n",
       "\n",
       "    .dataframe thead th {\n",
       "        text-align: right;\n",
       "    }\n",
       "</style>\n",
       "<table border=\"1\" class=\"dataframe\">\n",
       "  <thead>\n",
       "    <tr style=\"text-align: right;\">\n",
       "      <th></th>\n",
       "      <th>site_name</th>\n",
       "      <th>count</th>\n",
       "    </tr>\n",
       "  </thead>\n",
       "  <tbody>\n",
       "    <tr>\n",
       "      <th>0</th>\n",
       "      <td>lh3.googleusercontent.com</td>\n",
       "      <td>162104</td>\n",
       "    </tr>\n",
       "    <tr>\n",
       "      <th>1</th>\n",
       "      <td>lh4.googleusercontent.com</td>\n",
       "      <td>158798</td>\n",
       "    </tr>\n",
       "    <tr>\n",
       "      <th>2</th>\n",
       "      <td>lh5.googleusercontent.com</td>\n",
       "      <td>156027</td>\n",
       "    </tr>\n",
       "    <tr>\n",
       "      <th>3</th>\n",
       "      <td>lh6.googleusercontent.com</td>\n",
       "      <td>152010</td>\n",
       "    </tr>\n",
       "    <tr>\n",
       "      <th>4</th>\n",
       "      <td>lh3.ggpht.com</td>\n",
       "      <td>96044</td>\n",
       "    </tr>\n",
       "    <tr>\n",
       "      <th>5</th>\n",
       "      <td>lh4.ggpht.com</td>\n",
       "      <td>93126</td>\n",
       "    </tr>\n",
       "    <tr>\n",
       "      <th>6</th>\n",
       "      <td>lh6.ggpht.com</td>\n",
       "      <td>92889</td>\n",
       "    </tr>\n",
       "    <tr>\n",
       "      <th>7</th>\n",
       "      <td>lh5.ggpht.com</td>\n",
       "      <td>92173</td>\n",
       "    </tr>\n",
       "    <tr>\n",
       "      <th>8</th>\n",
       "      <td>mw2.google.com</td>\n",
       "      <td>83782</td>\n",
       "    </tr>\n",
       "    <tr>\n",
       "      <th>9</th>\n",
       "      <td>static.panoramio.com</td>\n",
       "      <td>10932</td>\n",
       "    </tr>\n",
       "    <tr>\n",
       "      <th>10</th>\n",
       "      <td>commondatastorage.googleapis.com</td>\n",
       "      <td>570</td>\n",
       "    </tr>\n",
       "    <tr>\n",
       "      <th>11</th>\n",
       "      <td>i99.beon.ru</td>\n",
       "      <td>1</td>\n",
       "    </tr>\n",
       "    <tr>\n",
       "      <th>12</th>\n",
       "      <td>c.qyer.com</td>\n",
       "      <td>1</td>\n",
       "    </tr>\n",
       "    <tr>\n",
       "      <th>13</th>\n",
       "      <td>gblor.ru</td>\n",
       "      <td>1</td>\n",
       "    </tr>\n",
       "    <tr>\n",
       "      <th>14</th>\n",
       "      <td>c.avsim.su</td>\n",
       "      <td>1</td>\n",
       "    </tr>\n",
       "    <tr>\n",
       "      <th>15</th>\n",
       "      <td>images-onepick-opensocial.googleusercontent.com</td>\n",
       "      <td>1</td>\n",
       "    </tr>\n",
       "    <tr>\n",
       "      <th>16</th>\n",
       "      <td>1-ps.googleusercontent.com</td>\n",
       "      <td>1</td>\n",
       "    </tr>\n",
       "  </tbody>\n",
       "</table>\n",
       "</div>"
      ],
      "text/plain": [
       "                                          site_name   count\n",
       "0                         lh3.googleusercontent.com  162104\n",
       "1                         lh4.googleusercontent.com  158798\n",
       "2                         lh5.googleusercontent.com  156027\n",
       "3                         lh6.googleusercontent.com  152010\n",
       "4                                     lh3.ggpht.com   96044\n",
       "5                                     lh4.ggpht.com   93126\n",
       "6                                     lh6.ggpht.com   92889\n",
       "7                                     lh5.ggpht.com   92173\n",
       "8                                    mw2.google.com   83782\n",
       "9                              static.panoramio.com   10932\n",
       "10                 commondatastorage.googleapis.com     570\n",
       "11                                      i99.beon.ru       1\n",
       "12                                       c.qyer.com       1\n",
       "13                                         gblor.ru       1\n",
       "14                                       c.avsim.su       1\n",
       "15  images-onepick-opensocial.googleusercontent.com       1\n",
       "16                       1-ps.googleusercontent.com       1"
      ]
     },
     "execution_count": 18,
     "metadata": {},
     "output_type": "execute_result"
    }
   ],
   "source": [
    "# Occurance of site in decreasing order(Top categories)\n",
    "temp = pd.DataFrame(train_data.site_name.value_counts())\n",
    "temp.reset_index(inplace=True)\n",
    "temp.columns = ['site_name','count']\n",
    "temp"
   ]
  },
  {
   "cell_type": "markdown",
   "metadata": {
    "_cell_guid": "70040144-9132-4e94-a2a3-66307cd1391e",
    "_uuid": "1ee2188ffb19ab08d728ff2d168c192d0518ec38"
   },
   "source": [
    "### As we can see there are total 17 unique sites."
   ]
  },
  {
   "cell_type": "code",
   "execution_count": 19,
   "metadata": {
    "_cell_guid": "c065d58f-66ee-459f-b6e7-fde5b79c1139",
    "_uuid": "2008d164358adba61c3acdc6cd6fd6c5577da232"
   },
   "outputs": [
    {
     "data": {
      "image/png": "[encoded data removed]",
      "text/plain": [
       "<matplotlib.figure.Figure at 0x7f4b3571d198>"
      ]
     },
     "metadata": {},
     "output_type": "display_data"
    }
   ],
   "source": [
    "# Plot the Sites with their count\n",
    "plt.figure(figsize = (9, 8))\n",
    "plt.title('Sites with their count')\n",
    "sns.set_color_codes(\"pastel\")\n",
    "sns.barplot(x=\"site_name\", y=\"count\", data=temp,\n",
    "            label=\"Count\")\n",
    "locs, labels = plt.xticks()\n",
    "plt.setp(labels, rotation=90)\n",
    "plt.show()"
   ]
  },
  {
   "cell_type": "markdown",
   "metadata": {
    "_cell_guid": "bfc5348f-69c9-45df-aeeb-a1dbdf7aaf14",
    "_uuid": "9270a600eafae228be47809cfbdca3cfc712f84e"
   },
   "source": [
    "### occurances of sites in test_data"
   ]
  },
  {
   "cell_type": "code",
   "execution_count": 20,
   "metadata": {
    "_cell_guid": "12e739bb-6191-46e6-badd-8e153b19c5ec",
    "_uuid": "12e9cc1e0a6911f942744c554c923674abd36522"
   },
   "outputs": [
    {
     "data": {
      "text/html": [
       "<div>\n",
       "<style scoped>\n",
       "    .dataframe tbody tr th:only-of-type {\n",
       "        vertical-align: middle;\n",
       "    }\n",
       "\n",
       "    .dataframe tbody tr th {\n",
       "        vertical-align: top;\n",
       "    }\n",
       "\n",
       "    .dataframe thead th {\n",
       "        text-align: right;\n",
       "    }\n",
       "</style>\n",
       "<table border=\"1\" class=\"dataframe\">\n",
       "  <thead>\n",
       "    <tr style=\"text-align: right;\">\n",
       "      <th></th>\n",
       "      <th>site_name</th>\n",
       "      <th>count</th>\n",
       "    </tr>\n",
       "  </thead>\n",
       "  <tbody>\n",
       "    <tr>\n",
       "      <th>0</th>\n",
       "      <td>lh3.googleusercontent.com</td>\n",
       "      <td>116855</td>\n",
       "    </tr>\n",
       "    <tr>\n",
       "      <th>1</th>\n",
       "      <td>lh3.ggpht.com</td>\n",
       "      <td>166</td>\n",
       "    </tr>\n",
       "    <tr>\n",
       "      <th>2</th>\n",
       "      <td>lh5.ggpht.com</td>\n",
       "      <td>134</td>\n",
       "    </tr>\n",
       "    <tr>\n",
       "      <th>3</th>\n",
       "      <td>lh4.ggpht.com</td>\n",
       "      <td>123</td>\n",
       "    </tr>\n",
       "    <tr>\n",
       "      <th>4</th>\n",
       "      <td>images1-focus-opensocial.googleusercontent.com</td>\n",
       "      <td>102</td>\n",
       "    </tr>\n",
       "    <tr>\n",
       "      <th>5</th>\n",
       "      <td>lh6.ggpht.com</td>\n",
       "      <td>92</td>\n",
       "    </tr>\n",
       "    <tr>\n",
       "      <th>6</th>\n",
       "      <td>lh5.googleusercontent.com</td>\n",
       "      <td>80</td>\n",
       "    </tr>\n",
       "    <tr>\n",
       "      <th>7</th>\n",
       "      <td>lh4.googleusercontent.com</td>\n",
       "      <td>55</td>\n",
       "    </tr>\n",
       "    <tr>\n",
       "      <th>8</th>\n",
       "      <td>static.panoramio.com</td>\n",
       "      <td>47</td>\n",
       "    </tr>\n",
       "    <tr>\n",
       "      <th>9</th>\n",
       "      <td>lh6.googleusercontent.com</td>\n",
       "      <td>28</td>\n",
       "    </tr>\n",
       "    <tr>\n",
       "      <th>10</th>\n",
       "      <td>images2-focus-opensocial.googleusercontent.com</td>\n",
       "      <td>3</td>\n",
       "    </tr>\n",
       "    <tr>\n",
       "      <th>11</th>\n",
       "      <td>img06.rl0.ru</td>\n",
       "      <td>2</td>\n",
       "    </tr>\n",
       "    <tr>\n",
       "      <th>12</th>\n",
       "      <td>img01.rl0.ru</td>\n",
       "      <td>2</td>\n",
       "    </tr>\n",
       "    <tr>\n",
       "      <th>13</th>\n",
       "      <td>img02.rl0.ru</td>\n",
       "      <td>2</td>\n",
       "    </tr>\n",
       "    <tr>\n",
       "      <th>14</th>\n",
       "      <td>images-onepick-opensocial.googleusercontent.com</td>\n",
       "      <td>2</td>\n",
       "    </tr>\n",
       "    <tr>\n",
       "      <th>15</th>\n",
       "      <td>cdn.photogyps.com</td>\n",
       "      <td>1</td>\n",
       "    </tr>\n",
       "    <tr>\n",
       "      <th>16</th>\n",
       "      <td>1.bp.blogspot.com</td>\n",
       "      <td>1</td>\n",
       "    </tr>\n",
       "    <tr>\n",
       "      <th>17</th>\n",
       "      <td>extreme.com.ua</td>\n",
       "      <td>1</td>\n",
       "    </tr>\n",
       "    <tr>\n",
       "      <th>18</th>\n",
       "      <td>cdn.champbell.net</td>\n",
       "      <td>1</td>\n",
       "    </tr>\n",
       "    <tr>\n",
       "      <th>19</th>\n",
       "      <td>img07.rl0.ru</td>\n",
       "      <td>1</td>\n",
       "    </tr>\n",
       "    <tr>\n",
       "      <th>20</th>\n",
       "      <td>img09.rl0.ru</td>\n",
       "      <td>1</td>\n",
       "    </tr>\n",
       "    <tr>\n",
       "      <th>21</th>\n",
       "      <td>images-blogger-opensocial.googleusercontent.com</td>\n",
       "      <td>1</td>\n",
       "    </tr>\n",
       "    <tr>\n",
       "      <th>22</th>\n",
       "      <td>a.disquscdn.com</td>\n",
       "      <td>1</td>\n",
       "    </tr>\n",
       "    <tr>\n",
       "      <th>23</th>\n",
       "      <td>jiu-jitsu-mo.ru</td>\n",
       "      <td>1</td>\n",
       "    </tr>\n",
       "    <tr>\n",
       "      <th>24</th>\n",
       "      <td>img08.rl0.ru</td>\n",
       "      <td>1</td>\n",
       "    </tr>\n",
       "  </tbody>\n",
       "</table>\n",
       "</div>"
      ],
      "text/plain": [
       "                                          site_name   count\n",
       "0                         lh3.googleusercontent.com  116855\n",
       "1                                     lh3.ggpht.com     166\n",
       "2                                     lh5.ggpht.com     134\n",
       "3                                     lh4.ggpht.com     123\n",
       "4    images1-focus-opensocial.googleusercontent.com     102\n",
       "5                                     lh6.ggpht.com      92\n",
       "6                         lh5.googleusercontent.com      80\n",
       "7                         lh4.googleusercontent.com      55\n",
       "8                              static.panoramio.com      47\n",
       "9                         lh6.googleusercontent.com      28\n",
       "10   images2-focus-opensocial.googleusercontent.com       3\n",
       "11                                     img06.rl0.ru       2\n",
       "12                                     img01.rl0.ru       2\n",
       "13                                     img02.rl0.ru       2\n",
       "14  images-onepick-opensocial.googleusercontent.com       2\n",
       "15                                cdn.photogyps.com       1\n",
       "16                                1.bp.blogspot.com       1\n",
       "17                                   extreme.com.ua       1\n",
       "18                                cdn.champbell.net       1\n",
       "19                                     img07.rl0.ru       1\n",
       "20                                     img09.rl0.ru       1\n",
       "21  images-blogger-opensocial.googleusercontent.com       1\n",
       "22                                  a.disquscdn.com       1\n",
       "23                                  jiu-jitsu-mo.ru       1\n",
       "24                                     img08.rl0.ru       1"
      ]
     },
     "execution_count": 20,
     "metadata": {},
     "output_type": "execute_result"
    }
   ],
   "source": [
    "# Occurance of site in decreasing order(Top categories)\n",
    "temp = pd.DataFrame(test_data.site_name.value_counts())\n",
    "temp.reset_index(inplace=True)\n",
    "temp.columns = ['site_name','count']\n",
    "temp"
   ]
  },
  {
   "cell_type": "markdown",
   "metadata": {
    "_cell_guid": "8f4df191-c06c-41ad-870e-f5d7aef3f958",
    "_uuid": "418cc8bb079655260f301a9f9ec91a7666b1efff"
   },
   "source": [
    "### Total unique sites are 25 in test data and some are different from train_data"
   ]
  },
  {
   "cell_type": "code",
   "execution_count": 21,
   "metadata": {
    "_cell_guid": "380904c1-6586-49b2-b9d5-76c99b8e8be3",
    "_uuid": "9df1fae01de9e80ffb5efa2d746dc4165a894e84"
   },
   "outputs": [
    {
     "data": {
      "image/png": "[encoded data removed]",
      "text/plain": [
       "<matplotlib.figure.Figure at 0x7f4afc2a9ac8>"
      ]
     },
     "metadata": {},
     "output_type": "display_data"
    }
   ],
   "source": [
    "# Plot the Sites with their count\n",
    "plt.figure(figsize = (9, 8))\n",
    "plt.title('Sites with their count')\n",
    "sns.set_color_codes(\"pastel\")\n",
    "sns.barplot(x=\"site_name\", y=\"count\", data=temp,\n",
    "            label=\"Count\")\n",
    "locs, labels = plt.xticks()\n",
    "plt.setp(labels, rotation=90)\n",
    "plt.show()"
   ]
  },
  {
   "cell_type": "markdown",
   "metadata": {
    "_cell_guid": "548ef5dc-efdc-4cb0-9f98-a21f4634ebe6",
    "_uuid": "e231a9781a607856146eca1166cbac4397c7e35f"
   },
   "source": [
    "### As we can see that most of the images are taken from one site only."
   ]
  },
  {
   "cell_type": "code",
   "execution_count": null,
   "metadata": {
    "_cell_guid": "1a755817-75e7-403f-817a-7b6454e34610",
    "_uuid": "82eae6b65bc8b5d0ae588d54ad65cef9d20da314"
   },
   "outputs": [],
   "source": []
  }
 ],
 "metadata": {
  "kernelspec": {
   "display_name": "Python 3",
   "language": "python",
   "name": "python3"
  },
  "language_info": {
   "codemirror_mode": {
    "name": "ipython",
    "version": 3
   },
   "file_extension": ".py",
   "mimetype": "text/x-python",
   "name": "python",
   "nbconvert_exporter": "python",
   "pygments_lexer": "ipython3",
   "version": "3.6.4"
  }
 },
 "nbformat": 4,
 "nbformat_minor": 1
}
